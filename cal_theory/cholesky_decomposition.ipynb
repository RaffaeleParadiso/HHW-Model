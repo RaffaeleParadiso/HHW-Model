{
 "cells": [
  {
   "cell_type": "code",
   "execution_count": 1,
   "id": "24520918",
   "metadata": {},
   "outputs": [],
   "source": [
    "from IPython.display import display\n",
    "from sympy import *\n"
   ]
  },
  {
   "cell_type": "code",
   "execution_count": 2,
   "id": "59c2e48d",
   "metadata": {},
   "outputs": [
    {
     "name": "stdout",
     "output_type": "stream",
     "text": [
      "Matrix M\n"
     ]
    },
    {
     "data": {
      "text/latex": [
       "$\\displaystyle \\left[\\begin{matrix}1 & \\rho_{rv} & \\rho_{rx}\\\\\\rho_{rv} & 1 & \\rho_{vx}\\\\\\rho_{rx} & \\rho_{vx} & 1\\end{matrix}\\right]$"
      ],
      "text/plain": [
       "Matrix([\n",
       "[     1, rho_rv, rho_rx],\n",
       "[rho_rv,      1, rho_vx],\n",
       "[rho_rx, rho_vx,      1]])"
      ]
     },
     "metadata": {},
     "output_type": "display_data"
    },
    {
     "name": "stdout",
     "output_type": "stream",
     "text": [
      "Matrix L (lower triangular matrix from decomposition)\n"
     ]
    },
    {
     "data": {
      "text/latex": [
       "$\\displaystyle \\left[\\begin{matrix}1 & 0 & 0\\\\\\rho_{rv} & \\sqrt{1 - \\rho_{rv}^{2}} & 0\\\\\\rho_{rx} & \\frac{- \\rho_{rv} \\rho_{rx} + \\rho_{vx}}{\\sqrt{1 - \\rho_{rv}^{2}}} & \\sqrt{- \\rho_{rx}^{2} + 1 - \\frac{\\left(- \\rho_{rv} \\rho_{rx} + \\rho_{vx}\\right)^{2}}{1 - \\rho_{rv}^{2}}}\\end{matrix}\\right]$"
      ],
      "text/plain": [
       "Matrix([\n",
       "[     1,                                             0,                                                                   0],\n",
       "[rho_rv,                           sqrt(1 - rho_rv**2),                                                                   0],\n",
       "[rho_rx, (-rho_rv*rho_rx + rho_vx)/sqrt(1 - rho_rv**2), sqrt(-rho_rx**2 + 1 - (-rho_rv*rho_rx + rho_vx)**2/(1 - rho_rv**2))]])"
      ]
     },
     "metadata": {},
     "output_type": "display_data"
    },
    {
     "name": "stdout",
     "output_type": "stream",
     "text": [
      "Matrix N (volatilities)\n"
     ]
    },
    {
     "data": {
      "text/latex": [
       "$\\displaystyle \\left[\\begin{matrix}\\eta & 0 & 0\\\\0 & \\sigma \\sqrt{v_t} & 0\\\\0 & 0 & \\sqrt{v_t}\\end{matrix}\\right]$"
      ],
      "text/plain": [
       "Matrix([\n",
       "[\\eta,                 0,          0],\n",
       "[   0, \\sigma*\\sqrt{v_t},          0],\n",
       "[   0,                 0, \\sqrt{v_t}]])"
      ]
     },
     "metadata": {},
     "output_type": "display_data"
    },
    {
     "name": "stdout",
     "output_type": "stream",
     "text": [
      "Sigma matrix\n"
     ]
    },
    {
     "data": {
      "text/latex": [
       "$\\displaystyle \\left[\\begin{matrix}\\eta & 0 & 0\\\\\\sigma \\sqrt{v_t} \\rho_{rv} & \\sigma \\sqrt{v_t} \\sqrt{1 - \\rho_{rv}^{2}} & 0\\\\\\sqrt{v_t} \\rho_{rx} & \\frac{\\sqrt{v_t} \\left(- \\rho_{rv} \\rho_{rx} + \\rho_{vx}\\right)}{\\sqrt{1 - \\rho_{rv}^{2}}} & \\sqrt{v_t} \\sqrt{- \\rho_{rx}^{2} + 1 - \\frac{\\left(- \\rho_{rv} \\rho_{rx} + \\rho_{vx}\\right)^{2}}{1 - \\rho_{rv}^{2}}}\\end{matrix}\\right]$"
      ],
      "text/plain": [
       "Matrix([\n",
       "[                    \\eta,                                                        0,                                                                              0],\n",
       "[\\sigma*\\sqrt{v_t}*rho_rv,                    \\sigma*\\sqrt{v_t}*sqrt(1 - rho_rv**2),                                                                              0],\n",
       "[       \\sqrt{v_t}*rho_rx, \\sqrt{v_t}*(-rho_rv*rho_rx + rho_vx)/sqrt(1 - rho_rv**2), \\sqrt{v_t}*sqrt(-rho_rx**2 + 1 - (-rho_rv*rho_rx + rho_vx)**2/(1 - rho_rv**2))]])"
      ]
     },
     "metadata": {},
     "output_type": "display_data"
    },
    {
     "name": "stdout",
     "output_type": "stream",
     "text": [
      "Instantaneous Correlation Matrix\n"
     ]
    },
    {
     "data": {
      "text/latex": [
       "$\\displaystyle \\left[\\begin{matrix}\\eta^{2} & \\eta \\sigma \\sqrt{v_t} \\rho_{rv} & \\eta \\sqrt{v_t} \\rho_{rx}\\\\\\eta \\sigma \\sqrt{v_t} \\rho_{rv} & \\sigma^{2} \\sqrt{v_t}^{2} & \\sigma \\sqrt{v_t}^{2} \\rho_{vx}\\\\\\eta \\sqrt{v_t} \\rho_{rx} & \\sigma \\sqrt{v_t}^{2} \\rho_{vx} & \\sqrt{v_t}^{2}\\end{matrix}\\right]$"
      ],
      "text/plain": [
       "Matrix([\n",
       "[                      \\eta**2, \\eta*\\sigma*\\sqrt{v_t}*rho_rv,      \\eta*\\sqrt{v_t}*rho_rx],\n",
       "[\\eta*\\sigma*\\sqrt{v_t}*rho_rv,       \\sigma**2*\\sqrt{v_t}**2, \\sigma*\\sqrt{v_t}**2*rho_vx],\n",
       "[       \\eta*\\sqrt{v_t}*rho_rx,   \\sigma*\\sqrt{v_t}**2*rho_vx,               \\sqrt{v_t}**2]])"
      ]
     },
     "metadata": {},
     "output_type": "display_data"
    },
    {
     "name": "stdout",
     "output_type": "stream",
     "text": [
      "Matrix L * B_t\n"
     ]
    },
    {
     "data": {
      "text/latex": [
       "$\\displaystyle \\left[\\begin{matrix}B_{r}\\\\B_{r} \\rho_{rv} + B_{v} \\sqrt{1 - \\rho_{rv}^{2}}\\\\B_{r} \\rho_{rx} + \\frac{B_{v} \\left(- \\rho_{rv} \\rho_{rx} + \\rho_{vx}\\right)}{\\sqrt{1 - \\rho_{rv}^{2}}} + B_{x} \\sqrt{- \\rho_{rx}^{2} + 1 - \\frac{\\left(- \\rho_{rv} \\rho_{rx} + \\rho_{vx}\\right)^{2}}{1 - \\rho_{rv}^{2}}}\\end{matrix}\\right]$"
      ],
      "text/plain": [
       "Matrix([\n",
       "[                                                                                                                                     B_r],\n",
       "[                                                                                                    B_r*rho_rv + B_v*sqrt(1 - rho_rv**2)],\n",
       "[B_r*rho_rx + B_v*(-rho_rv*rho_rx + rho_vx)/sqrt(1 - rho_rv**2) + B_x*sqrt(-rho_rx**2 + 1 - (-rho_rv*rho_rx + rho_vx)**2/(1 - rho_rv**2))]])"
      ]
     },
     "metadata": {},
     "output_type": "display_data"
    }
   ],
   "source": [
    "x, y, rho_vx, rho_rx, rho_rv = symbols(r\"x y rho_vx, rho_rx, rho_rv\")\n",
    "\n",
    "M = Matrix([[1, rho_rv, rho_rx], [rho_rv, 1, rho_vx], [rho_rx, rho_vx, 1]])\n",
    "\n",
    "print(\"Matrix M\")\n",
    "display(M)\n",
    "# print(M == M.T)\n",
    "L = M.cholesky(hermitian=False)\n",
    "print(\"Matrix L (lower triangular matrix from decomposition)\")\n",
    "display(L)\n",
    "\n",
    "v_t, sigma, eta = symbols(r\"\\sqrt{v_t}, \\sigma, \\eta\")\n",
    "\n",
    "N = Matrix([[eta, 0, 0], [0, sigma * v_t, 0], [0, 0, v_t]])\n",
    "\n",
    "\n",
    "print(\"Matrix N (volatilities)\")\n",
    "display(N)\n",
    "\n",
    "print(\"Sigma matrix\")\n",
    "display(N * L)\n",
    "\n",
    "\n",
    "print(\"Instantaneous Correlation Matrix\")\n",
    "sigma = N * L\n",
    "display(simplify(sigma * sigma.transpose()))\n",
    "\n",
    "\n",
    "print(\"Matrix L * B_t\")\n",
    "b_r, b_v, b_x = symbols(r\"B_r B_v B_x\")\n",
    "B = Matrix([[b_r, b_v, b_x]])\n",
    "display(L * B.transpose())"
   ]
  },
  {
   "cell_type": "code",
   "execution_count": null,
   "id": "5d45f59c",
   "metadata": {},
   "outputs": [],
   "source": []
  },
  {
   "cell_type": "code",
   "execution_count": 3,
   "id": "f2e8b9e3",
   "metadata": {},
   "outputs": [
    {
     "name": "stdout",
     "output_type": "stream",
     "text": [
      "True\n"
     ]
    },
    {
     "data": {
      "text/latex": [
       "$\\displaystyle \\left[\\begin{matrix}1 & 0 & 0\\\\\\rho_{sv} & \\sqrt{1 - \\rho_{sv}^{2}} & 0\\\\0 & 0 & 1\\end{matrix}\\right]$"
      ],
      "text/plain": [
       "Matrix([\n",
       "[     1,                   0, 0],\n",
       "[rho_sv, sqrt(1 - rho_sv**2), 0],\n",
       "[     0,                   0, 1]])"
      ]
     },
     "metadata": {},
     "output_type": "display_data"
    },
    {
     "data": {
      "text/latex": [
       "$\\displaystyle \\left[\\begin{matrix}\\sqrt{v_t} & 0 & 0\\\\0 & \\sigma \\sqrt{v_t} & 0\\\\0 & 0 & \\eta\\end{matrix}\\right]$"
      ],
      "text/plain": [
       "Matrix([\n",
       "[\\sqrt{v_t},                 0,    0],\n",
       "[         0, \\sigma*\\sqrt{v_t},    0],\n",
       "[         0,                 0, \\eta]])"
      ]
     },
     "metadata": {},
     "output_type": "display_data"
    },
    {
     "data": {
      "text/latex": [
       "$\\displaystyle \\left[\\begin{matrix}\\sqrt{v_t} & 0 & 0\\\\\\sigma \\sqrt{v_t} \\rho_{sv} & \\sigma \\sqrt{v_t} \\sqrt{1 - \\rho_{sv}^{2}} & 0\\\\0 & 0 & \\eta\\end{matrix}\\right]$"
      ],
      "text/plain": [
       "Matrix([\n",
       "[              \\sqrt{v_t},                                     0,    0],\n",
       "[\\sigma*\\sqrt{v_t}*rho_sv, \\sigma*\\sqrt{v_t}*sqrt(1 - rho_sv**2),    0],\n",
       "[                       0,                                     0, \\eta]])"
      ]
     },
     "metadata": {},
     "output_type": "display_data"
    },
    {
     "data": {
      "text/latex": [
       "$\\displaystyle \\left[\\begin{matrix}\\sqrt{v_t}^{2} & \\sigma \\sqrt{v_t}^{2} \\rho_{sv} & 0\\\\\\sigma \\sqrt{v_t}^{2} \\rho_{sv} & \\sigma^{2} \\sqrt{v_t}^{2} & 0\\\\0 & 0 & \\eta^{2}\\end{matrix}\\right]$"
      ],
      "text/plain": [
       "Matrix([\n",
       "[              \\sqrt{v_t}**2, \\sigma*\\sqrt{v_t}**2*rho_sv,       0],\n",
       "[\\sigma*\\sqrt{v_t}**2*rho_sv,     \\sigma**2*\\sqrt{v_t}**2,       0],\n",
       "[                          0,                           0, \\eta**2]])"
      ]
     },
     "metadata": {},
     "output_type": "display_data"
    }
   ],
   "source": [
    "x, y, rho_sv, rho_sr, rho_vr = symbols(r\"x y rho_sv, rho_sr, rho_vr\")\n",
    "v_t, sigma, eta = symbols(r\"\\sqrt{v_t}, \\sigma, \\eta\")\n",
    "\n",
    "\n",
    "M = Matrix([[1, rho_sv, 0], [rho_sv, 1, 0], [0, 0, 1]])\n",
    "\n",
    "print(M == M.T)\n",
    "L = M.cholesky(hermitian=False)\n",
    "display(L)\n",
    "\n",
    "N = Matrix([[v_t, 0, 0], [0, sigma * v_t, 0], [0, 0, eta]])\n",
    "\n",
    "display(N)\n",
    "display(N * L)\n",
    "sigma = N * L\n",
    "\n",
    "display(simplify(sigma * sigma.transpose()))"
   ]
  },
  {
   "cell_type": "code",
   "execution_count": 4,
   "id": "13182fcd",
   "metadata": {},
   "outputs": [
    {
     "data": {
      "text/latex": [
       "$\\displaystyle \\left[\\begin{matrix}1 & 0 & \\rho_{sr}\\\\0 & 1 & \\rho_{sv}\\\\\\rho_{sr} & \\rho_{sv} & 1\\end{matrix}\\right]$"
      ],
      "text/plain": [
       "Matrix([\n",
       "[     1,      0, rho_sr],\n",
       "[     0,      1, rho_sv],\n",
       "[rho_sr, rho_sv,      1]])"
      ]
     },
     "metadata": {},
     "output_type": "display_data"
    },
    {
     "data": {
      "text/latex": [
       "$\\displaystyle \\left[\\begin{matrix}1 & 0 & 0\\\\0 & 1 & 0\\\\\\rho_{sr} & \\rho_{sv} & \\sqrt{- \\rho_{sr}^{2} - \\rho_{sv}^{2} + 1}\\end{matrix}\\right]$"
      ],
      "text/plain": [
       "Matrix([\n",
       "[     1,      0,                                0],\n",
       "[     0,      1,                                0],\n",
       "[rho_sr, rho_sv, sqrt(-rho_sr**2 - rho_sv**2 + 1)]])"
      ]
     },
     "metadata": {},
     "output_type": "display_data"
    }
   ],
   "source": [
    "x, y, rho_sv, rho_sr, rho_vr = symbols(r\"x y rho_sv, rho_sr, rho_vr\")\n",
    "v_t, sigma, eta = symbols(r\"\\sqrt{v_t}, \\sigma, \\eta\")\n",
    "\n",
    "\n",
    "M = Matrix([[1, 0, rho_sr], [0, 1, rho_sv], [rho_sr, rho_sv, 1]])\n",
    "\n",
    "display(M)\n",
    "L = M.cholesky(hermitian=False)\n",
    "display(L)"
   ]
  }
 ],
 "metadata": {
  "kernelspec": {
   "display_name": "Python 3 (ipykernel)",
   "language": "python",
   "name": "python3"
  },
  "language_info": {
   "codemirror_mode": {
    "name": "ipython",
    "version": 3
   },
   "file_extension": ".py",
   "mimetype": "text/x-python",
   "name": "python",
   "nbconvert_exporter": "python",
   "pygments_lexer": "ipython3",
   "version": "3.10.9"
  }
 },
 "nbformat": 4,
 "nbformat_minor": 5
}
