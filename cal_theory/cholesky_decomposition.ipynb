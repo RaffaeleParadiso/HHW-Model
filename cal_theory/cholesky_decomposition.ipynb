{
 "cells": [
  {
   "cell_type": "code",
   "execution_count": 28,
   "id": "24520918",
   "metadata": {},
   "outputs": [
    {
     "name": "stdout",
     "output_type": "stream",
     "text": [
      "True\n"
     ]
    },
    {
     "data": {
      "text/latex": [
       "$\\displaystyle \\left[\\begin{matrix}1 & 0 & 0\\\\\\rho_{sv} & \\sqrt{1 - \\rho_{sv}^{2}} & 0\\\\\\rho_{sr} & \\frac{- \\rho_{sr} \\rho_{sv} + \\rho_{vr}}{\\sqrt{1 - \\rho_{sv}^{2}}} & \\sqrt{- \\rho_{sr}^{2} + 1 - \\frac{\\left(- \\rho_{sr} \\rho_{sv} + \\rho_{vr}\\right)^{2}}{1 - \\rho_{sv}^{2}}}\\end{matrix}\\right]$"
      ],
      "text/plain": [
       "Matrix([\n",
       "[     1,                                             0,                                                                   0],\n",
       "[rho_sv,                           sqrt(1 - rho_sv**2),                                                                   0],\n",
       "[rho_sr, (-rho_sr*rho_sv + rho_vr)/sqrt(1 - rho_sv**2), sqrt(-rho_sr**2 + 1 - (-rho_sr*rho_sv + rho_vr)**2/(1 - rho_sv**2))]])"
      ]
     },
     "metadata": {},
     "output_type": "display_data"
    },
    {
     "data": {
      "text/latex": [
       "$\\displaystyle \\left[\\begin{matrix}\\sqrt{v_t} & 0 & 0\\\\0 & \\sigma \\sqrt{v_t} & 0\\\\0 & 0 & \\eta\\end{matrix}\\right]$"
      ],
      "text/plain": [
       "Matrix([\n",
       "[\\sqrt{v_t},                 0,    0],\n",
       "[         0, \\sigma*\\sqrt{v_t},    0],\n",
       "[         0,                 0, \\eta]])"
      ]
     },
     "metadata": {},
     "output_type": "display_data"
    },
    {
     "data": {
      "text/latex": [
       "$\\displaystyle \\left[\\begin{matrix}\\sqrt{v_t} & 0 & 0\\\\\\sigma \\sqrt{v_t} \\rho_{sv} & \\sigma \\sqrt{v_t} \\sqrt{1 - \\rho_{sv}^{2}} & 0\\\\\\eta \\rho_{sr} & \\frac{\\eta \\left(- \\rho_{sr} \\rho_{sv} + \\rho_{vr}\\right)}{\\sqrt{1 - \\rho_{sv}^{2}}} & \\eta \\sqrt{- \\rho_{sr}^{2} + 1 - \\frac{\\left(- \\rho_{sr} \\rho_{sv} + \\rho_{vr}\\right)^{2}}{1 - \\rho_{sv}^{2}}}\\end{matrix}\\right]$"
      ],
      "text/plain": [
       "Matrix([\n",
       "[              \\sqrt{v_t},                                                  0,                                                                        0],\n",
       "[\\sigma*\\sqrt{v_t}*rho_sv,              \\sigma*\\sqrt{v_t}*sqrt(1 - rho_sv**2),                                                                        0],\n",
       "[             \\eta*rho_sr, \\eta*(-rho_sr*rho_sv + rho_vr)/sqrt(1 - rho_sv**2), \\eta*sqrt(-rho_sr**2 + 1 - (-rho_sr*rho_sv + rho_vr)**2/(1 - rho_sv**2))]])"
      ]
     },
     "metadata": {},
     "output_type": "display_data"
    }
   ],
   "source": [
    "from IPython.display import display\n",
    "from sympy import *\n",
    "x, y, rho_sv, rho_sr, rho_vr = symbols(r'x y rho_sv, rho_sr, rho_vr')\n",
    "\n",
    "M = Matrix([\n",
    "    [1, rho_sv, rho_sr ],\n",
    "    [ rho_sv, 1, rho_vr],\n",
    "    [rho_sr, rho_vr, 1 ]\n",
    "])\n",
    "\n",
    "print(M == M.T)\n",
    "L = M.cholesky(hermitian=False)\n",
    "display(L)\n",
    "\n",
    "v_t, sigma, eta = symbols(r'\\sqrt{v_t}, \\sigma, \\eta')\n",
    "\n",
    "N = Matrix([\n",
    "    [v_t, 0, 0],\n",
    "    [0, sigma*v_t, 0],\n",
    "    [0, 0, eta ]\n",
    "])\n",
    "\n",
    "display(N)\n",
    "display(N*L)"
   ]
  },
  {
   "cell_type": "code",
   "execution_count": null,
   "id": "f2e8b9e3",
   "metadata": {},
   "outputs": [],
   "source": []
  }
 ],
 "metadata": {
  "kernelspec": {
   "display_name": "Python 3 (ipykernel)",
   "language": "python",
   "name": "python3"
  },
  "language_info": {
   "codemirror_mode": {
    "name": "ipython",
    "version": 3
   },
   "file_extension": ".py",
   "mimetype": "text/x-python",
   "name": "python",
   "nbconvert_exporter": "python",
   "pygments_lexer": "ipython3",
   "version": "3.9.12"
  }
 },
 "nbformat": 4,
 "nbformat_minor": 5
}
