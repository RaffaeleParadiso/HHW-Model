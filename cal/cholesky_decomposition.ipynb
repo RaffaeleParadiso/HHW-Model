{
 "cells": [
  {
   "cell_type": "code",
   "execution_count": 5,
   "id": "24520918",
   "metadata": {},
   "outputs": [
    {
     "name": "stdout",
     "output_type": "stream",
     "text": [
      "True\n"
     ]
    },
    {
     "data": {
      "text/latex": [
       "$\\displaystyle \\left[\\begin{matrix}1 & 0 & 0\\\\r_{sv} & \\sqrt{1 - r_{sv}^{2}} & 0\\\\r_{sr} & \\frac{- r_{sr} r_{sv} + r_{vr}}{\\sqrt{1 - r_{sv}^{2}}} & \\sqrt{- r_{sr}^{2} + 1 - \\frac{\\left(- r_{sr} r_{sv} + r_{vr}\\right)^{2}}{1 - r_{sv}^{2}}}\\end{matrix}\\right]$"
      ],
      "text/plain": [
       "Matrix([\n",
       "[   1,                                     0,                                                         0],\n",
       "[r_sv,                     sqrt(1 - r_sv**2),                                                         0],\n",
       "[r_sr, (-r_sr*r_sv + r_vr)/sqrt(1 - r_sv**2), sqrt(-r_sr**2 + 1 - (-r_sr*r_sv + r_vr)**2/(1 - r_sv**2))]])"
      ]
     },
     "metadata": {},
     "output_type": "display_data"
    }
   ],
   "source": [
    "from IPython.display import display\n",
    "from sympy import *\n",
    "x, y, r_sv, r_sr, r_vr = symbols('x y r_sv, r_sr, r_vr')\n",
    "\n",
    "M = Matrix([\n",
    "    [1, r_sv, r_sr ],\n",
    "    [ r_sv, 1, r_vr],\n",
    "    [r_sr, r_vr, 1 ]\n",
    "])\n",
    "\n",
    "print(M == M.T)\n",
    "L = M.cholesky(hermitian=False)\n",
    "display(L)"
   ]
  },
  {
   "cell_type": "code",
   "execution_count": null,
   "id": "e2e743c6",
   "metadata": {},
   "outputs": [],
   "source": []
  }
 ],
 "metadata": {
  "kernelspec": {
   "display_name": "Python 3 (ipykernel)",
   "language": "python",
   "name": "python3"
  },
  "language_info": {
   "codemirror_mode": {
    "name": "ipython",
    "version": 3
   },
   "file_extension": ".py",
   "mimetype": "text/x-python",
   "name": "python",
   "nbconvert_exporter": "python",
   "pygments_lexer": "ipython3",
   "version": "3.9.12"
  }
 },
 "nbformat": 4,
 "nbformat_minor": 5
}
